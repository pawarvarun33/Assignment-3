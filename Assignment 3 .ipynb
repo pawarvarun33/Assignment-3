{
 "cells": [
  {
   "cell_type": "markdown",
   "id": "c8ad7a06-1db3-49d3-9d0a-fec19fbf3a38",
   "metadata": {},
   "source": [
    "## Q 1 \n",
    "# Create 2 lists from a given list where \n",
    "# 1st list will contain all the odd numbers from the original list and\n",
    "# the 2nd one will contain all the even numbers\n",
    "L = [1,2,3,4,5,6]"
   ]
  },
  {
   "cell_type": "code",
   "execution_count": 15,
   "id": "cd999c2a-19fd-4a71-8a76-a1cd21d034fb",
   "metadata": {},
   "outputs": [
    {
     "name": "stdout",
     "output_type": "stream",
     "text": [
      "even number in the list is :[1, 3, 5]\n",
      "odd number in the list is :[0, 2, 4, 6]\n"
     ]
    }
   ],
   "source": [
    "list=[1,2,3,4,5,6]\n",
    "a=[]\n",
    "b=[]\n",
    "for i in range(0,7):\n",
    "    if i%2==0:\n",
    "        a.append(i)\n",
    "    else:\n",
    "        b.append(i)\n",
    "print(\"even number in the list is :{0}\". format(b))\n",
    "print(\"odd number in the list is :{0}\" .format(a))"
   ]
  },
  {
   "cell_type": "markdown",
   "id": "3b048de7-98b8-42de-bba9-c794f3a18713",
   "metadata": {},
   "source": [
    "### Q2  How to take list as input from user"
   ]
  },
  {
   "cell_type": "code",
   "execution_count": 19,
   "id": "91e185cf-1e5f-4589-836e-d3a1b91a4d98",
   "metadata": {},
   "outputs": [
    {
     "name": "stdin",
     "output_type": "stream",
     "text": [
      "Enter the number of elements:  10\n",
      " 5\n",
      " 4\n",
      " 6\n",
      " 7\n",
      " 8\n",
      " 0\n",
      " 9\n",
      " 1\n",
      " 2\n",
      " 3\n"
     ]
    },
    {
     "name": "stdout",
     "output_type": "stream",
     "text": [
      "[5, 4, 6, 7, 8, 0, 9, 1, 2, 3]\n"
     ]
    }
   ],
   "source": [
    "lst = []\n",
    "n = int(input(\"Enter the number of elements: \"))\n",
    "for i in range(n):\n",
    "    ele = int(input())\n",
    "    lst.append(ele)\n",
    "print(lst)\n"
   ]
  },
  {
   "cell_type": "markdown",
   "id": "eb78aa47-a791-421f-8577-7c8ce1e05341",
   "metadata": {},
   "source": [
    "### Q 3  write a program to merge 2 list without using the + operator\n",
    "L1 = [1,2,3,4]\n",
    "L2 = [5,6,7,8]"
   ]
  },
  {
   "cell_type": "code",
   "execution_count": 23,
   "id": "e40f03bc-6c82-4eab-9f83-9bedcbf6b8e5",
   "metadata": {},
   "outputs": [
    {
     "name": "stdout",
     "output_type": "stream",
     "text": [
      "[1, 2, 3, 4, 5, 6, 7, 8]\n"
     ]
    }
   ],
   "source": [
    "L1 = [1, 2, 3, 4]\n",
    "L2 = [5, 6, 7, 8]\n",
    "merged_list = [*L1, *L2]\n",
    "print(merged_list)  "
   ]
  },
  {
   "cell_type": "markdown",
   "id": "9e6c2812-675c-4cb8-99c1-76855eb2169e",
   "metadata": {},
   "source": [
    "### Q4 Write a program to replace an item with a different item if found in the list \n",
    "L = [1,2,3,4,5,3]\n",
    "replace 3 with 300"
   ]
  },
  {
   "cell_type": "code",
   "execution_count": 27,
   "id": "4ca5fc3c-074b-43da-be56-676ecd5e6cfd",
   "metadata": {},
   "outputs": [
    {
     "name": "stdout",
     "output_type": "stream",
     "text": [
      "[1, 2, 300, 4, 5, 300]\n"
     ]
    }
   ],
   "source": [
    "L = [1, 2, 3, 4, 5, 3]\n",
    "for i in range(len(L)):\n",
    "    if L[i] == 3:\n",
    "        L[i] = 300\n",
    "print(L) "
   ]
  },
  {
   "cell_type": "markdown",
   "id": "f162e5fd-3606-4666-b1a0-06925fbeba55",
   "metadata": {},
   "source": [
    "### Q 5 Write a program that can convert a 2D list to 1D list"
   ]
  },
  {
   "cell_type": "code",
   "execution_count": 30,
   "id": "38179c62-d27c-4a82-8fe3-d8589b5e690a",
   "metadata": {},
   "outputs": [
    {
     "name": "stdout",
     "output_type": "stream",
     "text": [
      "[1, 2, 3, 4, 5, 6, 7, 8]\n"
     ]
    }
   ],
   "source": [
    "from functools import reduce\n",
    "my_2dlist = [[1, 2, 3], [4, 5, 6], [7, 8]]\n",
    "flattened_list = reduce(lambda x, y: x + y, my_2dlist)\n",
    "print(flattened_list)  "
   ]
  },
  {
   "cell_type": "markdown",
   "id": "9e649178-dd37-459c-8523-78e0f4a7354e",
   "metadata": {},
   "source": [
    "### Q 6  Write a program to remove duplicate items from a list\n",
    "\n",
    "L = [1,2,1,2,3,4,5,3,4]"
   ]
  },
  {
   "cell_type": "code",
   "execution_count": 33,
   "id": "b7fca0b2-4f7e-4862-ae0f-481aa1441e56",
   "metadata": {},
   "outputs": [
    {
     "name": "stdout",
     "output_type": "stream",
     "text": [
      "[1, 2, 3, 4, 5]\n"
     ]
    }
   ],
   "source": [
    "L = [1, 2, 1, 2, 3, 4, 5, 3, 4]\n",
    "L = [x for i, x in enumerate(L) if x not in L[:i]]\n",
    "print(L) "
   ]
  },
  {
   "cell_type": "markdown",
   "id": "7402b972-b205-4ee7-bd30-3fb50acac0e0",
   "metadata": {},
   "source": [
    "### Q 7 Write a program to check if a list is in ascending order or not"
   ]
  },
  {
   "cell_type": "code",
   "execution_count": 38,
   "id": "8624f78c-a01a-43c1-94c7-2039311abbf7",
   "metadata": {},
   "outputs": [
    {
     "name": "stdout",
     "output_type": "stream",
     "text": [
      "The list is not sorted in ascending order\n"
     ]
    }
   ],
   "source": [
    "def is_sorted_ascending(lst):\n",
    "    return all(lst[index] <= lst[index+1] for index in range(len(lst) - 1))\n",
    "\n",
    "list_1 = [1, 2, 3, 4, 5]\n",
    "if is_sorted_ascending(list_1):\n",
    "    print(\"The list is sorted in ascending order\")\n",
    "else:\n",
    "    print(\"The list is not sorted in ascending order\")\n"
   ]
  },
  {
   "cell_type": "code",
   "execution_count": null,
   "id": "b38e3b79-6535-4cc1-aa01-c2e114be05e5",
   "metadata": {},
   "outputs": [],
   "source": []
  }
 ],
 "metadata": {
  "kernelspec": {
   "display_name": "Python 3 (ipykernel)",
   "language": "python",
   "name": "python3"
  },
  "language_info": {
   "codemirror_mode": {
    "name": "ipython",
    "version": 3
   },
   "file_extension": ".py",
   "mimetype": "text/x-python",
   "name": "python",
   "nbconvert_exporter": "python",
   "pygments_lexer": "ipython3",
   "version": "3.11.7"
  }
 },
 "nbformat": 4,
 "nbformat_minor": 5
}
